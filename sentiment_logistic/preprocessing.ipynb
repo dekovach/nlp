{
 "cells": [
  {
   "cell_type": "markdown",
   "metadata": {},
   "source": [
    "# Preprocessing\n",
    "Preprocess tweets for sentiment analysis. \n",
    "Using the NLTK package to perfrom a preprocessing pipeline for Twitter datasets.\n",
    "* Tokenizing tweet strings \n",
    "* Lowercasing\n",
    "* Removing hyperlinks, twitter marks and hashtags\n",
    "* Removing stop words and punctiuation\n",
    "* Stemming"
   ]
  },
  {
   "cell_type": "code",
   "execution_count": 1,
   "metadata": {},
   "outputs": [],
   "source": [
    "import nltk\n",
    "from nltk.corpus import twitter_samples\n",
    "import matplotlib.pyplot as plt\n",
    "import random\n",
    "import re\n",
    "from nltk.corpus import stopwords\n",
    "from nltk.stem import PorterStemmer\n",
    "from nltk.tokenize import TweetTokenizer\n",
    "import pprint\n",
    "import string"
   ]
  },
  {
   "cell_type": "code",
   "execution_count": 2,
   "metadata": {},
   "outputs": [
    {
     "name": "stderr",
     "output_type": "stream",
     "text": [
      "[nltk_data] Downloading package twitter_samples to\n",
      "[nltk_data]     /Users/d062562/nltk_data...\n",
      "[nltk_data]   Package twitter_samples is already up-to-date!\n"
     ]
    },
    {
     "data": {
      "text/plain": [
       "True"
      ]
     },
     "execution_count": 2,
     "metadata": {},
     "output_type": "execute_result"
    }
   ],
   "source": [
    "# Downloads sample twitter dataset\n",
    "nltk.download('twitter_samples')"
   ]
  },
  {
   "cell_type": "code",
   "execution_count": 3,
   "metadata": {},
   "outputs": [
    {
     "name": "stdout",
     "output_type": "stream",
     "text": [
      "Type:  <class 'list'>\n",
      "Tweet data type:  <class 'str'>\n",
      "\n",
      "Count of positive tweets:  5000\n",
      "Count of negative tweets:  5000\n"
     ]
    }
   ],
   "source": [
    "# loads positive and negative tweets\n",
    "positive_tweets = twitter_samples.strings('positive_tweets.json')\n",
    "negative_tweets = twitter_samples.strings('negative_tweets.json')\n",
    "\n",
    "print(\"Type: \", type(positive_tweets))\n",
    "print(\"Tweet data type: \", type(positive_tweets[0]))\n",
    "print(\"\\nCount of positive tweets: \", len(positive_tweets))\n",
    "print(\"Count of negative tweets: \", len(negative_tweets))"
   ]
  },
  {
   "cell_type": "code",
   "execution_count": 4,
   "metadata": {},
   "outputs": [
    {
     "data": {
      "image/png": "[encoded data removed]",
      "text/plain": [
       "<Figure size 360x360 with 1 Axes>"
      ]
     },
     "metadata": {},
     "output_type": "display_data"
    }
   ],
   "source": [
    "# Pie chart visualization of the dataset\n",
    "fig = plt.figure(figsize=(5, 5))\n",
    "\n",
    "labels = ['Positive', 'Negative']\n",
    "sizes = [len(positive_tweets), len(negative_tweets)]\n",
    "\n",
    "plt.pie(sizes, labels=labels, autopct=\"%1.1f%%\", startangle=90, shadow=True)\n",
    "\n",
    "plt.axis(\"equal\")\n",
    "\n",
    "plt.show()"
   ]
  },
  {
   "cell_type": "code",
   "execution_count": 5,
   "metadata": {},
   "outputs": [
    {
     "name": "stdout",
     "output_type": "stream",
     "text": [
      "\u001b[92mMy beautiful sunflowers on a sunny Friday morning off :) #sunflowers #favourites #happy #Friday off… https://t.co/3tfYom0N1i\n",
      "\n",
      "\u001b[91mokay she doesnt want to talk to me then I will stop :(\n"
     ]
    }
   ],
   "source": [
    "# print raw tweets\n",
    "print(\"\\033[92m\" + positive_tweets[2277])\n",
    "print(\"\\n\\033[91m\" + negative_tweets[2277])"
   ]
  },
  {
   "cell_type": "code",
   "execution_count": 6,
   "metadata": {},
   "outputs": [
    {
     "name": "stdout",
     "output_type": "stream",
     "text": [
      "My beautiful sunflowers on a sunny Friday morning off :) #sunflowers #favourites #happy #Friday off… https://t.co/3tfYom0N1i\n",
      "My beautiful sunflowers on a sunny Friday morning off :) sunflowers favourites happy Friday off… \n"
     ]
    }
   ],
   "source": [
    "# removes \"RT\" (reply in old style Twitter tweets)\n",
    "# removes hyperlinks\n",
    "# removes # (hash) sign\n",
    "\n",
    "tweet = positive_tweets[2277]\n",
    "\n",
    "tweet2 = re.sub(r'^RE\\s+', '', tweet)\n",
    "\n",
    "print(tweet2)\n",
    "\n",
    "tweet2 = re.sub(r'https?:\\/\\/.*[\\r\\n]*', '', tweet2)\n",
    "tweet2 = re.sub('\\#', '', tweet2)\n",
    "print(tweet2)"
   ]
  },
  {
   "cell_type": "code",
   "execution_count": 7,
   "metadata": {},
   "outputs": [
    {
     "name": "stdout",
     "output_type": "stream",
     "text": [
      "['my',\n",
      " 'beautiful',\n",
      " 'sunflowers',\n",
      " 'on',\n",
      " 'a',\n",
      " 'sunny',\n",
      " 'friday',\n",
      " 'morning',\n",
      " 'off',\n",
      " ':)',\n",
      " 'sunflowers',\n",
      " 'favourites',\n",
      " 'happy',\n",
      " 'friday',\n",
      " 'off',\n",
      " '…']\n"
     ]
    }
   ],
   "source": [
    "# tokenizes the string, lowercasing it\n",
    "tknzr = TweetTokenizer(preserve_case=False, strip_handles=True, reduce_len=True)\n",
    "tokens = tknzr.tokenize(tweet2)\n",
    "pprint.pprint(tokens)"
   ]
  },
  {
   "cell_type": "code",
   "execution_count": 8,
   "metadata": {},
   "outputs": [
    {
     "name": "stderr",
     "output_type": "stream",
     "text": [
      "[nltk_data] Downloading package stopwords to\n",
      "[nltk_data]     /Users/d062562/nltk_data...\n",
      "[nltk_data]   Package stopwords is already up-to-date!\n"
     ]
    },
    {
     "data": {
      "text/plain": [
       "True"
      ]
     },
     "execution_count": 8,
     "metadata": {},
     "output_type": "execute_result"
    }
   ],
   "source": [
    "# download the english stopwords list\n",
    "nltk.download('stopwords')"
   ]
  },
  {
   "cell_type": "code",
   "execution_count": 9,
   "metadata": {},
   "outputs": [
    {
     "name": "stdout",
     "output_type": "stream",
     "text": [
      "['beauti', 'sunflow', 'sunni', 'friday', 'morn', ':)', 'sunflow', 'favourit', 'happi', 'friday', '…']\n"
     ]
    }
   ],
   "source": [
    "# removes stop words and punctuation\n",
    "# stemming\n",
    "stop_words = set(stopwords.words('english'))\n",
    "stemmer = PorterStemmer()\n",
    "\n",
    "filtered_tokens = [stemmer.stem(token) for token in tokens if token not in stop_words and token not in string.punctuation]\n",
    "print(filtered_tokens)"
   ]
  },
  {
   "cell_type": "code",
   "execution_count": 10,
   "metadata": {},
   "outputs": [
    {
     "name": "stdout",
     "output_type": "stream",
     "text": [
      "['beauti', 'sunflow', 'sunni', 'friday', 'morn', ':)', 'sunflow', 'favourit', 'happi', 'friday', '…']\n"
     ]
    }
   ],
   "source": [
    "from utils import process_tweet\n",
    "\n",
    "print(process_tweet(tweet))"
   ]
  },
  {
   "cell_type": "code",
   "execution_count": null,
   "metadata": {},
   "outputs": [],
   "source": []
  }
 ],
 "metadata": {
  "kernelspec": {
   "display_name": "Python 3",
   "language": "python",
   "name": "python3"
  },
  "language_info": {
   "codemirror_mode": {
    "name": "ipython",
    "version": 3
   },
   "file_extension": ".py",
   "mimetype": "text/x-python",
   "name": "python",
   "nbconvert_exporter": "python",
   "pygments_lexer": "ipython3",
   "version": "3.7.7"
  }
 },
 "nbformat": 4,
 "nbformat_minor": 4
}
