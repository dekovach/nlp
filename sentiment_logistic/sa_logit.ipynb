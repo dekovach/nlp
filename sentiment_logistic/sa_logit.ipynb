{
 "cells": [
  {
   "cell_type": "markdown",
   "metadata": {},
   "source": [
    "# Sentiment Analysis with Logistic Regression\n",
    "Given a tweet, decide if it has a positive sentiment or a negative one. \n",
    "* Extract features for logistic regression\n",
    "* Logistic regression implementation\n",
    "* Error  analysis"
   ]
  },
  {
   "cell_type": "code",
   "execution_count": 1,
   "metadata": {},
   "outputs": [
    {
     "name": "stderr",
     "output_type": "stream",
     "text": [
      "[nltk_data] Downloading package twitter_samples to\n",
      "[nltk_data]     /Users/d062562/nltk_data...\n",
      "[nltk_data]   Package twitter_samples is already up-to-date!\n",
      "[nltk_data] Downloading package stopwords to\n",
      "[nltk_data]     /Users/d062562/nltk_data...\n",
      "[nltk_data]   Package stopwords is already up-to-date!\n"
     ]
    },
    {
     "data": {
      "text/plain": [
       "True"
      ]
     },
     "execution_count": 1,
     "metadata": {},
     "output_type": "execute_result"
    }
   ],
   "source": [
    "import nltk\n",
    "from nltk.corpus import twitter_samples\n",
    "import numpy as np\n",
    "import pandas as pd\n",
    "from utils import process_tweet, build_freqs\n",
    "\n",
    "nltk.download('twitter_samples')\n",
    "nltk.download('stopwords')"
   ]
  },
  {
   "cell_type": "code",
   "execution_count": 2,
   "metadata": {},
   "outputs": [],
   "source": [
    "# load the data\n",
    "positive_tweets = twitter_samples.strings(\"positive_tweets.json\")\n",
    "negative_tweets = twitter_samples.strings(\"negative_tweets.json\")"
   ]
  },
  {
   "cell_type": "code",
   "execution_count": 3,
   "metadata": {},
   "outputs": [],
   "source": [
    "# split the data to train and test sets\n",
    "n = len(positive_tweets)\n",
    "train_n = int(0.8 * n)\n",
    "test_n = n - train_n\n",
    "\n",
    "train_pos_x = positive_tweets[:train_n]\n",
    "train_neg_x = negative_tweets[:train_n]\n",
    "test_pos_x = positive_tweets[train_n:]\n",
    "test_neg_x = negative_tweets[train_n:]\n",
    "\n",
    "train_x = train_pos_x + train_neg_x\n",
    "test_x = test_pos_x + test_neg_x\n",
    "\n",
    "train_y = np.append(np.ones((train_n, 1)), np.zeros((train_n, 1)), axis=0)\n",
    "test_y = np. append(np.ones((test_n, 1)), np.zeros((test_n, 1)), axis=0)"
   ]
  },
  {
   "cell_type": "code",
   "execution_count": 4,
   "metadata": {},
   "outputs": [],
   "source": [
    "# sigmoid funciton\n",
    "def sigmoid(z):\n",
    "    h = 1.0 / (1.0 + np.exp(-z))\n",
    "    return h"
   ]
  },
  {
   "cell_type": "code",
   "execution_count": 29,
   "metadata": {},
   "outputs": [],
   "source": [
    "# gradient descent\n",
    "def gradient_descent(x, y, theta, alpha, num_iter):\n",
    "    \"\"\"Train log. regression via gradien descent\n",
    "    Input:\n",
    "        x: input vector of dim (m, 3)\n",
    "        y: labels vector of dim (m, 1)\n",
    "        theta: parameters of the log reg model\n",
    "        alpha: learning rate\n",
    "        num_iter: number of iterations\n",
    "    \"\"\"\n",
    "    J = None\n",
    "    m = x.shape[0]\n",
    "    for i in range(num_iter):\n",
    "        h = sigmoid(np.dot(x, theta))\n",
    "        gradient = 1. / float(m) * np.dot(x.T, h - y)\n",
    "        theta = theta - alpha * gradient\n",
    "        J = - 1. / float(m) * (np.dot(y.T, np.log(h)) + np.dot(1. - y.T, np.log(1. - h)))\n",
    "        \n",
    "    J = float(J)\n",
    "    return J, theta"
   ]
  },
  {
   "cell_type": "code",
   "execution_count": 62,
   "metadata": {},
   "outputs": [
    {
     "name": "stdout",
     "output_type": "stream",
     "text": [
      "Loss: 0.67094970\n",
      "[4.1e-07, 0.00035658, 7.309e-05]\n"
     ]
    }
   ],
   "source": [
    "# test the gradient descent function\n",
    "np.random.seed(1) \n",
    "\n",
    "np.append(np.ones((10, 1)), np.random.rand(10, 2) * 2000, axis=1)\n",
    "(np.random.rand(10, 1) > 0.35).astype(float)\n",
    "\n",
    "tmp_J, tmp_theta = gradient_descent(tmp_x, tmp_y, np.zeros((3, 1)), 1e-8, 700)\n",
    "print(f\"Loss: {tmp_J:.8f}\")\n",
    "print([round(t, 8) for t in np.squeeze(tmp_theta)])"
   ]
  },
  {
   "cell_type": "code",
   "execution_count": 58,
   "metadata": {},
   "outputs": [],
   "source": [
    "def extract_features(tweet, freqs):\n",
    "    features = np.array([1., 0., 0.])\n",
    "    for token in process_tweet(tweet):\n",
    "        features[1] += freqs.get((token, 1.), 0.)\n",
    "        features[2] += freqs.get((token, 0.), 0.)\n",
    "        \n",
    "    return features"
   ]
  },
  {
   "cell_type": "code",
   "execution_count": 59,
   "metadata": {},
   "outputs": [],
   "source": [
    "# train model\n",
    "freqs = build_freqs(train_x, train_y)"
   ]
  },
  {
   "cell_type": "code",
   "execution_count": 60,
   "metadata": {},
   "outputs": [
    {
     "data": {
      "text/plain": [
       "array([1.00e+00, 3.02e+03, 6.10e+01])"
      ]
     },
     "execution_count": 60,
     "metadata": {},
     "output_type": "execute_result"
    }
   ],
   "source": [
    "extract_features(train_x[0], freqs)"
   ]
  },
  {
   "cell_type": "code",
   "execution_count": 65,
   "metadata": {},
   "outputs": [
    {
     "data": {
      "text/plain": [
       "array([1., 0., 0.])"
      ]
     },
     "execution_count": 65,
     "metadata": {},
     "output_type": "execute_result"
    }
   ],
   "source": [
    "extract_features('blorb bleeeeb bloooob', freqs)"
   ]
  },
  {
   "cell_type": "code",
   "execution_count": 73,
   "metadata": {},
   "outputs": [
    {
     "name": "stdout",
     "output_type": "stream",
     "text": [
      "Loss: 0.19017944918474783\n",
      "[[ 1.22177916e-07]\n",
      " [ 7.01963417e-04]\n",
      " [-6.94830463e-04]]\n"
     ]
    }
   ],
   "source": [
    "m = len(train_x)\n",
    "train_features = np.zeros((m, 3)) #np.append(np.ones((m, 1)), np.zeros((m, 2)), axis=1).reshape((m, 3))\n",
    "for i, tweet in enumerate(train_x):\n",
    "    train_features[i, :] = extract_features(tweet, freqs)\n",
    "loss, theta = gradient_descent(train_features, train_y, np.zeros((3, 1)), 1e-9, 2500)\n",
    "print(f\"Loss: {loss}\")\n",
    "print(theta)"
   ]
  },
  {
   "cell_type": "code",
   "execution_count": 74,
   "metadata": {},
   "outputs": [],
   "source": [
    "def predict_tweet(tweet, freqs, theta):\n",
    "    x = extract_features(tweet, freqs)\n",
    "    y_pred = sigmoid(np.dot(x, theta))\n",
    "    return y_pred"
   ]
  },
  {
   "cell_type": "code",
   "execution_count": 75,
   "metadata": {},
   "outputs": [
    {
     "name": "stdout",
     "output_type": "stream",
     "text": [
      "I am happy -> 0.525106\n",
      "I am bad -> 0.493077\n",
      "this movie should have been great. -> 0.520928\n",
      "great -> 0.520898\n",
      "great great -> 0.541723\n",
      "great great great -> 0.562403\n",
      "great great great great -> 0.582869\n"
     ]
    }
   ],
   "source": [
    "# Run this cell to test your function\n",
    "for tweet in ['I am happy', 'I am bad', 'this movie should have been great.', 'great', 'great great', 'great great great', 'great great great great']:\n",
    "    print( '%s -> %f' % (tweet, predict_tweet(tweet, freqs, theta)))"
   ]
  },
  {
   "cell_type": "code",
   "execution_count": 78,
   "metadata": {},
   "outputs": [],
   "source": [
    "# test logistic regression on the test dataset\n",
    "def test_logistic_regression(test_x, test_y, freqs, theta):\n",
    "    y_hat = []\n",
    "    for tweet in test_x:\n",
    "        y_pred = predict_tweet(tweet, freqs, theta)\n",
    "        y_hat.append(1.0 if y_pred>0.5 else 0.0)\n",
    "\n",
    "    accuracy = np.sum(np.array(y_hat) == np.reshape(test_y, -1)) / test_y.shape[0]\n",
    "    return accuracy"
   ]
  },
  {
   "cell_type": "code",
   "execution_count": 79,
   "metadata": {},
   "outputs": [
    {
     "name": "stdout",
     "output_type": "stream",
     "text": [
      "0.9945\n"
     ]
    }
   ],
   "source": [
    "tmp_acc = test_logistic_regression(test_x, test_y, freqs, theta)\n",
    "print(tmp_acc)"
   ]
  },
  {
   "cell_type": "code",
   "execution_count": 81,
   "metadata": {},
   "outputs": [
    {
     "name": "stdout",
     "output_type": "stream",
     "text": [
      "mispredicted tweet:  @MarkBreech Not sure it would be good thing 4 my bottom daring 2 say 2 Miss B but Im gonna be so stubborn on mouth soaping ! #NotHavingit :p\n",
      "mispredicted tweet:  I'm playing Brain Dots : ) #BrainDots\n",
      "http://t.co/UGQzOx0huu\n",
      "mispredicted tweet:  I'm playing Brain Dots : ) #BrainDots http://t.co/aOKldo3GMj http://t.co/xWCM9qyRG5\n",
      "mispredicted tweet:  I'm playing Brain Dots : ) #BrainDots http://t.co/R2JBO8iNww http://t.co/ow5BBwdEMY\n",
      "mispredicted tweet:  off to the park to get some sunlight : )\n",
      "mispredicted tweet:  @msarosh Uff Itna Miss karhy thy ap :p\n",
      "mispredicted tweet:  @phenomyoutube u probs had more fun with david than me : (\n",
      "mispredicted tweet:  pats jay : (\n",
      "mispredicted tweet:  @bae_ts WHATEVER STIL L YOUNG &gt;:-(\n",
      "mispredicted tweet:  my beloved grandmother : ( https://t.co/wt4oXq5xCf\n",
      "mispredicted tweet:  @ITVCentral #Midlands Yes thanks for the depressing weather forecast, where the word 'rain' was mentioned several times :-(\n"
     ]
    }
   ],
   "source": [
    "# error analysis of wrongly predicted tweets\n",
    "for x, y in zip(test_x, test_y):\n",
    "    y_pred = predict_tweet(x, freqs, theta)\n",
    "    if np.abs(y - (y_pred>0.5)) > 0:\n",
    "        print(\"mispredicted tweet: \", x)"
   ]
  },
  {
   "cell_type": "code",
   "execution_count": null,
   "metadata": {},
   "outputs": [],
   "source": []
  }
 ],
 "metadata": {
  "kernelspec": {
   "display_name": "Python 3",
   "language": "python",
   "name": "python3"
  },
  "language_info": {
   "codemirror_mode": {
    "name": "ipython",
    "version": 3
   },
   "file_extension": ".py",
   "mimetype": "text/x-python",
   "name": "python",
   "nbconvert_exporter": "python",
   "pygments_lexer": "ipython3",
   "version": "3.7.7"
  }
 },
 "nbformat": 4,
 "nbformat_minor": 4
}
